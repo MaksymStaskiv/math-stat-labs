{
  "nbformat": 4,
  "nbformat_minor": 0,
  "metadata": {
    "colab": {
      "provenance": []
    },
    "kernelspec": {
      "name": "python3",
      "display_name": "Python 3"
    },
    "language_info": {
      "name": "python"
    }
  },
  "cells": [
    {
      "cell_type": "markdown",
      "source": [
        "Варіант 31 Виконав: Стаськів М.А. КН-414"
      ],
      "metadata": {
        "id": "ggFp5uJ8VhRR"
      }
    },
    {
      "cell_type": "code",
      "source": [
        "import pandas as pd\n",
        "import statistics\n",
        "import matplotlib.pyplot as plt\n",
        "import numpy as np"
      ],
      "metadata": {
        "id": "sUXSWKHiWZMT"
      },
      "execution_count": null,
      "outputs": []
    },
    {
      "cell_type": "code",
      "execution_count": null,
      "metadata": {
        "id": "MDagY6CbR8yb"
      },
      "outputs": [],
      "source": [
        "mu, sigma = 31, 0.1*31 # mean and standard deviation\n",
        "vars = [10,50,100,200,500]\n",
        "arr = []\n",
        "for i in vars:\n",
        "    arr.append(np.random.normal(mu, sigma, i))"
      ]
    },
    {
      "cell_type": "markdown",
      "source": [
        "Найкращими точковими оцінками значень математичного очікування  і дисперсії  випадкової величини  є середнє арифметичне  і статистична дисперсія ."
      ],
      "metadata": {
        "id": "LWN-tedGDheB"
      }
    },
    {
      "cell_type": "code",
      "source": [
        "means = []\n",
        "stds = []\n",
        "for i in arr:\n",
        "    means.append(i.mean())\n",
        "    stds.append(i.std())\n",
        "    \n",
        "print(\"Mean: \", means)\n",
        "print(\"\\nStd: \", stds)"
      ],
      "metadata": {
        "id": "gyhZJb87YSKb",
        "colab": {
          "base_uri": "https://localhost:8080/"
        },
        "outputId": "c8ed0702-1f50-4a22-aa47-3e98e29e4bb1"
      },
      "execution_count": null,
      "outputs": [
        {
          "output_type": "stream",
          "name": "stdout",
          "text": [
            "Mean:  [31.783559092232586, 31.35784598819839, 31.148480205651484, 30.847216169389245, 31.10123515099193]\n",
            "\n",
            "Std:  [2.9208923587130737, 2.7607154065655517, 3.119399322102489, 3.37175343007671, 3.191211806517015]\n"
          ]
        }
      ]
    },
    {
      "cell_type": "code",
      "source": [
        "plt.scatter(vars, means, color='red')\n",
        "plt.hlines(y = mu, xmin = 0, xmax = max(vars)+10, color = 'red')\n",
        "\n",
        "for i in range(len(vars)):\n",
        "    plt.vlines(x = vars[i], ymin = min(means[i], mu), ymax = max(means[i], mu))\n",
        "plt.title(\"mean - mu\")\n",
        "plt.plot()"
      ],
      "metadata": {
        "colab": {
          "base_uri": "https://localhost:8080/",
          "height": 298
        },
        "id": "skAeneI143XV",
        "outputId": "7770d111-df39-44dc-b0de-4efdaf712433"
      },
      "execution_count": null,
      "outputs": [
        {
          "output_type": "execute_result",
          "data": {
            "text/plain": [
              "[]"
            ]
          },
          "metadata": {},
          "execution_count": 106
        },
        {
          "output_type": "display_data",
          "data": {
            "text/plain": [
              "<Figure size 432x288 with 1 Axes>"
            ],
            "image/png": "[encoded data removed]"
          },
          "metadata": {
            "needs_background": "light"
          }
        }
      ]
    },
    {
      "cell_type": "code",
      "source": [
        "plt.scatter(vars, stds, color='red')\n",
        "plt.hlines(y = sigma, xmin = 0, xmax = max(vars)+10, color = 'red')\n",
        "\n",
        "for i in range(len(vars)):\n",
        "    plt.vlines(x = vars[i], ymin = min(stds[i],sigma), ymax = max(stds[i],sigma))\n",
        "plt.title(\"std - sigma\")\n",
        "plt.plot()"
      ],
      "metadata": {
        "colab": {
          "base_uri": "https://localhost:8080/",
          "height": 298
        },
        "id": "9S2vg3QI43iL",
        "outputId": "8b0a770f-8bd8-4859-ee09-d71e87bb0394"
      },
      "execution_count": null,
      "outputs": [
        {
          "output_type": "execute_result",
          "data": {
            "text/plain": [
              "[]"
            ]
          },
          "metadata": {},
          "execution_count": 107
        },
        {
          "output_type": "display_data",
          "data": {
            "text/plain": [
              "<Figure size 432x288 with 1 Axes>"
            ],
            "image/png": "[encoded data removed]"
          },
          "metadata": {
            "needs_background": "light"
          }
        }
      ]
    },
    {
      "cell_type": "code",
      "source": [
        "from scipy.stats import t\n",
        "intervals = []\n",
        "errors = []\n",
        "\n",
        "for i in range(len(arr)):\n",
        "    x = arr[i]\n",
        "    m = means[i]\n",
        "    s = stds[i]\n",
        "\n",
        "    dof = len(x)-1 \n",
        "    confidence = 0.95 \n",
        "    t_crit = np.abs(t.ppf((1-confidence)/2,dof)) \n",
        "    \n",
        "    pair = (m - s * t_crit / np.sqrt(len(x)), m+s*t_crit/np.sqrt(len(x)))\n",
        "    \n",
        "    errors.append(t_crit)\n",
        "    intervals.append(pair)\n",
        "    \n",
        "intervals"
      ],
      "metadata": {
        "colab": {
          "base_uri": "https://localhost:8080/"
        },
        "id": "uZ5UXYRIjRod",
        "outputId": "116d37aa-12e6-471f-a24a-dee1023b8787"
      },
      "execution_count": null,
      "outputs": [
        {
          "output_type": "execute_result",
          "data": {
            "text/plain": [
              "[(29.69407857188309, 33.87303961258208),\n",
              " (30.573259351764577, 32.14243262463221),\n",
              " (30.52952370430744, 31.76743670699553),\n",
              " (30.377064318287072, 31.31736802049142),\n",
              " (30.82083814641869, 31.381632155565168)]"
            ]
          },
          "metadata": {},
          "execution_count": 108
        }
      ]
    },
    {
      "cell_type": "code",
      "source": [
        "longs = []\n",
        "z = 0\n",
        "for i in intervals:\n",
        "    longs.append(i[1]-i[0])\n",
        "    z+=1\n",
        "    \n",
        "plt.scatter(vars, longs, color='black')\n",
        "plt.plot(vars, longs, color='black')"
      ],
      "metadata": {
        "colab": {
          "base_uri": "https://localhost:8080/",
          "height": 282
        },
        "id": "QFTS7gfhjteG",
        "outputId": "69db9bd1-2677-4b78-df05-1d215373df7e"
      },
      "execution_count": null,
      "outputs": [
        {
          "output_type": "execute_result",
          "data": {
            "text/plain": [
              "[<matplotlib.lines.Line2D at 0x7fe71d22bdd0>]"
            ]
          },
          "metadata": {},
          "execution_count": 109
        },
        {
          "output_type": "display_data",
          "data": {
            "text/plain": [
              "<Figure size 432x288 with 1 Axes>"
            ],
            "image/png": "[encoded data removed]"
          },
          "metadata": {
            "needs_background": "light"
          }
        }
      ]
    },
    {
      "cell_type": "code",
      "source": [
        "# - від довірчої імовірності Р при сталому обсязі вибірки (n=100).\n",
        "confidences = []\n",
        "inters = []\n",
        "\n",
        "confidence = 0.5\n",
        "for i in range(5):\n",
        "    x = arr[2]\n",
        "    m = means[i]\n",
        "    s = stds[i]\n",
        "\n",
        "    dof = len(x)-1\n",
        "    t_crit = np.abs(t.ppf((1-confidence)/2,dof)) #стандартна помилка\n",
        "    \n",
        "    pair = (m - s * t_crit / np.sqrt(len(x)), m+s*t_crit/np.sqrt(len(x)))\n",
        "    \n",
        "    confidences.append(confidence)\n",
        "    inters.append(pair)\n",
        "    confidence += 0.1\n",
        "    \n",
        "inters, confidences"
      ],
      "metadata": {
        "colab": {
          "base_uri": "https://localhost:8080/"
        },
        "id": "DyMXlOqU0Dhl",
        "outputId": "51a36247-bb77-4674-a11a-5bbe5a96c10a"
      },
      "execution_count": null,
      "outputs": [
        {
          "output_type": "execute_result",
          "data": {
            "text/plain": [
              "([(31.585821693912166, 31.981296490553007),\n",
              "  (31.12449181642193, 31.591200159974854),\n",
              "  (30.82347287284156, 31.47348753846141),\n",
              "  (30.41220554263835, 31.28222679614014),\n",
              "  (30.571369164946717, 31.63110113703714)],\n",
              " [0.5, 0.6, 0.7, 0.7999999999999999, 0.8999999999999999])"
            ]
          },
          "metadata": {},
          "execution_count": 110
        }
      ]
    },
    {
      "cell_type": "code",
      "source": [
        "longs = []\n",
        "z = 0\n",
        "for i in inters:\n",
        "    longs.append(i[1]-i[0])\n",
        "    z+=1\n",
        "    \n",
        "plt.scatter(confidences, longs, color='black')\n",
        "plt.plot(confidences, longs, color='black')"
      ],
      "metadata": {
        "colab": {
          "base_uri": "https://localhost:8080/",
          "height": 282
        },
        "id": "Oh7rLrDC0HdT",
        "outputId": "37474c2c-5ce7-4716-d196-8d76f5b129c3"
      },
      "execution_count": null,
      "outputs": [
        {
          "output_type": "execute_result",
          "data": {
            "text/plain": [
              "[<matplotlib.lines.Line2D at 0x7fe71d1ac410>]"
            ]
          },
          "metadata": {},
          "execution_count": 111
        },
        {
          "output_type": "display_data",
          "data": {
            "text/plain": [
              "<Figure size 432x288 with 1 Axes>"
            ],
            "image/png": "[encoded data removed]"
          },
          "metadata": {
            "needs_background": "light"
          }
        }
      ]
    },
    {
      "cell_type": "code",
      "source": [
        "path2 = \"/content/drive/MyDrive/MatStat1/lab1/population-past-future.csv\""
      ],
      "metadata": {
        "id": "mzjfeBc8IjZ-"
      },
      "execution_count": null,
      "outputs": []
    },
    {
      "cell_type": "code",
      "source": [
        "df = pd.read_csv(path2)"
      ],
      "metadata": {
        "id": "LosL6LiQIwHD"
      },
      "execution_count": null,
      "outputs": []
    },
    {
      "cell_type": "code",
      "source": [
        "df"
      ],
      "metadata": {
        "colab": {
          "base_uri": "https://localhost:8080/",
          "height": 424
        },
        "id": "emMwy3jd8n5N",
        "outputId": "3927b39e-10ec-4e95-80bd-439a59ca2288"
      },
      "execution_count": null,
      "outputs": [
        {
          "output_type": "execute_result",
          "data": {
            "text/plain": [
              "            Entity Code   Year  \\\n",
              "0      Afghanistan  AFG -10000   \n",
              "1      Afghanistan  AFG  -9000   \n",
              "2      Afghanistan  AFG  -8000   \n",
              "3      Afghanistan  AFG  -7000   \n",
              "4      Afghanistan  AFG  -6000   \n",
              "...            ...  ...    ...   \n",
              "74769     Zimbabwe  ZWE   2096   \n",
              "74770     Zimbabwe  ZWE   2097   \n",
              "74771     Zimbabwe  ZWE   2098   \n",
              "74772     Zimbabwe  ZWE   2099   \n",
              "74773     Zimbabwe  ZWE   2100   \n",
              "\n",
              "       Population (historical estimates and future projections)  \n",
              "0                                                  14737         \n",
              "1                                                  20405         \n",
              "2                                                  28253         \n",
              "3                                                  39120         \n",
              "4                                                  54166         \n",
              "...                                                  ...         \n",
              "74769                                           30940779         \n",
              "74770                                           30952208         \n",
              "74771                                           30959811         \n",
              "74772                                           30964052         \n",
              "74773                                           30965421         \n",
              "\n",
              "[74774 rows x 4 columns]"
            ],
            "text/html": [
              "\n",
              "  <div id=\"df-c20455f9-e344-4d9f-91ab-22692b71168b\">\n",
              "    <div class=\"colab-df-container\">\n",
              "      <div>\n",
              "<style scoped>\n",
              "    .dataframe tbody tr th:only-of-type {\n",
              "        vertical-align: middle;\n",
              "    }\n",
              "\n",
              "    .dataframe tbody tr th {\n",
              "        vertical-align: top;\n",
              "    }\n",
              "\n",
              "    .dataframe thead th {\n",
              "        text-align: right;\n",
              "    }\n",
              "</style>\n",
              "<table border=\"1\" class=\"dataframe\">\n",
              "  <thead>\n",
              "    <tr style=\"text-align: right;\">\n",
              "      <th></th>\n",
              "      <th>Entity</th>\n",
              "      <th>Code</th>\n",
              "      <th>Year</th>\n",
              "      <th>Population (historical estimates and future projections)</th>\n",
              "    </tr>\n",
              "  </thead>\n",
              "  <tbody>\n",
              "    <tr>\n",
              "      <th>0</th>\n",
              "      <td>Afghanistan</td>\n",
              "      <td>AFG</td>\n",
              "      <td>-10000</td>\n",
              "      <td>14737</td>\n",
              "    </tr>\n",
              "    <tr>\n",
              "      <th>1</th>\n",
              "      <td>Afghanistan</td>\n",
              "      <td>AFG</td>\n",
              "      <td>-9000</td>\n",
              "      <td>20405</td>\n",
              "    </tr>\n",
              "    <tr>\n",
              "      <th>2</th>\n",
              "      <td>Afghanistan</td>\n",
              "      <td>AFG</td>\n",
              "      <td>-8000</td>\n",
              "      <td>28253</td>\n",
              "    </tr>\n",
              "    <tr>\n",
              "      <th>3</th>\n",
              "      <td>Afghanistan</td>\n",
              "      <td>AFG</td>\n",
              "      <td>-7000</td>\n",
              "      <td>39120</td>\n",
              "    </tr>\n",
              "    <tr>\n",
              "      <th>4</th>\n",
              "      <td>Afghanistan</td>\n",
              "      <td>AFG</td>\n",
              "      <td>-6000</td>\n",
              "      <td>54166</td>\n",
              "    </tr>\n",
              "    <tr>\n",
              "      <th>...</th>\n",
              "      <td>...</td>\n",
              "      <td>...</td>\n",
              "      <td>...</td>\n",
              "      <td>...</td>\n",
              "    </tr>\n",
              "    <tr>\n",
              "      <th>74769</th>\n",
              "      <td>Zimbabwe</td>\n",
              "      <td>ZWE</td>\n",
              "      <td>2096</td>\n",
              "      <td>30940779</td>\n",
              "    </tr>\n",
              "    <tr>\n",
              "      <th>74770</th>\n",
              "      <td>Zimbabwe</td>\n",
              "      <td>ZWE</td>\n",
              "      <td>2097</td>\n",
              "      <td>30952208</td>\n",
              "    </tr>\n",
              "    <tr>\n",
              "      <th>74771</th>\n",
              "      <td>Zimbabwe</td>\n",
              "      <td>ZWE</td>\n",
              "      <td>2098</td>\n",
              "      <td>30959811</td>\n",
              "    </tr>\n",
              "    <tr>\n",
              "      <th>74772</th>\n",
              "      <td>Zimbabwe</td>\n",
              "      <td>ZWE</td>\n",
              "      <td>2099</td>\n",
              "      <td>30964052</td>\n",
              "    </tr>\n",
              "    <tr>\n",
              "      <th>74773</th>\n",
              "      <td>Zimbabwe</td>\n",
              "      <td>ZWE</td>\n",
              "      <td>2100</td>\n",
              "      <td>30965421</td>\n",
              "    </tr>\n",
              "  </tbody>\n",
              "</table>\n",
              "<p>74774 rows × 4 columns</p>\n",
              "</div>\n",
              "      <button class=\"colab-df-convert\" onclick=\"convertToInteractive('df-c20455f9-e344-4d9f-91ab-22692b71168b')\"\n",
              "              title=\"Convert this dataframe to an interactive table.\"\n",
              "              style=\"display:none;\">\n",
              "        \n",
              "  <svg xmlns=\"http://www.w3.org/2000/svg\" height=\"24px\"viewBox=\"0 0 24 24\"\n",
              "       width=\"24px\">\n",
              "    <path d=\"M0 0h24v24H0V0z\" fill=\"none\"/>\n",
              "    <path d=\"M18.56 5.44l.94 2.06.94-2.06 2.06-.94-2.06-.94-.94-2.06-.94 2.06-2.06.94zm-11 1L8.5 8.5l.94-2.06 2.06-.94-2.06-.94L8.5 2.5l-.94 2.06-2.06.94zm10 10l.94 2.06.94-2.06 2.06-.94-2.06-.94-.94-2.06-.94 2.06-2.06.94z\"/><path d=\"M17.41 7.96l-1.37-1.37c-.4-.4-.92-.59-1.43-.59-.52 0-1.04.2-1.43.59L10.3 9.45l-7.72 7.72c-.78.78-.78 2.05 0 2.83L4 21.41c.39.39.9.59 1.41.59.51 0 1.02-.2 1.41-.59l7.78-7.78 2.81-2.81c.8-.78.8-2.07 0-2.86zM5.41 20L4 18.59l7.72-7.72 1.47 1.35L5.41 20z\"/>\n",
              "  </svg>\n",
              "      </button>\n",
              "      \n",
              "  <style>\n",
              "    .colab-df-container {\n",
              "      display:flex;\n",
              "      flex-wrap:wrap;\n",
              "      gap: 12px;\n",
              "    }\n",
              "\n",
              "    .colab-df-convert {\n",
              "      background-color: #E8F0FE;\n",
              "      border: none;\n",
              "      border-radius: 50%;\n",
              "      cursor: pointer;\n",
              "      display: none;\n",
              "      fill: #1967D2;\n",
              "      height: 32px;\n",
              "      padding: 0 0 0 0;\n",
              "      width: 32px;\n",
              "    }\n",
              "\n",
              "    .colab-df-convert:hover {\n",
              "      background-color: #E2EBFA;\n",
              "      box-shadow: 0px 1px 2px rgba(60, 64, 67, 0.3), 0px 1px 3px 1px rgba(60, 64, 67, 0.15);\n",
              "      fill: #174EA6;\n",
              "    }\n",
              "\n",
              "    [theme=dark] .colab-df-convert {\n",
              "      background-color: #3B4455;\n",
              "      fill: #D2E3FC;\n",
              "    }\n",
              "\n",
              "    [theme=dark] .colab-df-convert:hover {\n",
              "      background-color: #434B5C;\n",
              "      box-shadow: 0px 1px 3px 1px rgba(0, 0, 0, 0.15);\n",
              "      filter: drop-shadow(0px 1px 2px rgba(0, 0, 0, 0.3));\n",
              "      fill: #FFFFFF;\n",
              "    }\n",
              "  </style>\n",
              "\n",
              "      <script>\n",
              "        const buttonEl =\n",
              "          document.querySelector('#df-c20455f9-e344-4d9f-91ab-22692b71168b button.colab-df-convert');\n",
              "        buttonEl.style.display =\n",
              "          google.colab.kernel.accessAllowed ? 'block' : 'none';\n",
              "\n",
              "        async function convertToInteractive(key) {\n",
              "          const element = document.querySelector('#df-c20455f9-e344-4d9f-91ab-22692b71168b');\n",
              "          const dataTable =\n",
              "            await google.colab.kernel.invokeFunction('convertToInteractive',\n",
              "                                                     [key], {});\n",
              "          if (!dataTable) return;\n",
              "\n",
              "          const docLinkHtml = 'Like what you see? Visit the ' +\n",
              "            '<a target=\"_blank\" href=https://colab.research.google.com/notebooks/data_table.ipynb>data table notebook</a>'\n",
              "            + ' to learn more about interactive tables.';\n",
              "          element.innerHTML = '';\n",
              "          dataTable['output_type'] = 'display_data';\n",
              "          await google.colab.output.renderOutput(dataTable, element);\n",
              "          const docLink = document.createElement('div');\n",
              "          docLink.innerHTML = docLinkHtml;\n",
              "          element.appendChild(docLink);\n",
              "        }\n",
              "      </script>\n",
              "    </div>\n",
              "  </div>\n",
              "  "
            ]
          },
          "metadata": {},
          "execution_count": 114
        }
      ]
    },
    {
      "cell_type": "code",
      "source": [
        "labels = ['Ecuador', 'El Salvador','Eritrea', 'Equatorial Guinea', 'Estonia',]"
      ],
      "metadata": {
        "id": "bvjr17HY8ItE"
      },
      "execution_count": null,
      "outputs": []
    },
    {
      "cell_type": "code",
      "source": [
        "df = df[df['Entity'].isin(labels)]\n",
        "df = df[(df['Year'] > 1960) & (df['Year'] < 2022)]\n",
        "df.reset_index(inplace=True)\n",
        "df"
      ],
      "metadata": {
        "colab": {
          "base_uri": "https://localhost:8080/",
          "height": 424
        },
        "id": "P6vxF0FW8ZlB",
        "outputId": "3f4a3035-4769-4db7-eff9-ba091781fcb5"
      },
      "execution_count": null,
      "outputs": [
        {
          "output_type": "execute_result",
          "data": {
            "text/plain": [
              "     index   Entity Code  Year  \\\n",
              "0    19350  Ecuador  ECU  1961   \n",
              "1    19351  Ecuador  ECU  1962   \n",
              "2    19352  Ecuador  ECU  1963   \n",
              "3    19353  Ecuador  ECU  1964   \n",
              "4    19354  Ecuador  ECU  1965   \n",
              "..     ...      ...  ...   ...   \n",
              "300  21096  Estonia  EST  2017   \n",
              "301  21097  Estonia  EST  2018   \n",
              "302  21098  Estonia  EST  2019   \n",
              "303  21099  Estonia  EST  2020   \n",
              "304  21100  Estonia  EST  2021   \n",
              "\n",
              "     Population (historical estimates and future projections)  \n",
              "0                                              4674176         \n",
              "1                                              4809194         \n",
              "2                                              4948991         \n",
              "3                                              5093848         \n",
              "4                                              5243980         \n",
              "..                                                 ...         \n",
              "300                                            1319389         \n",
              "301                                            1322913         \n",
              "302                                            1325649         \n",
              "303                                            1326539         \n",
              "304                                            1325188         \n",
              "\n",
              "[305 rows x 5 columns]"
            ],
            "text/html": [
              "\n",
              "  <div id=\"df-8a334253-9da4-414e-9614-d131c41c2c1e\">\n",
              "    <div class=\"colab-df-container\">\n",
              "      <div>\n",
              "<style scoped>\n",
              "    .dataframe tbody tr th:only-of-type {\n",
              "        vertical-align: middle;\n",
              "    }\n",
              "\n",
              "    .dataframe tbody tr th {\n",
              "        vertical-align: top;\n",
              "    }\n",
              "\n",
              "    .dataframe thead th {\n",
              "        text-align: right;\n",
              "    }\n",
              "</style>\n",
              "<table border=\"1\" class=\"dataframe\">\n",
              "  <thead>\n",
              "    <tr style=\"text-align: right;\">\n",
              "      <th></th>\n",
              "      <th>index</th>\n",
              "      <th>Entity</th>\n",
              "      <th>Code</th>\n",
              "      <th>Year</th>\n",
              "      <th>Population (historical estimates and future projections)</th>\n",
              "    </tr>\n",
              "  </thead>\n",
              "  <tbody>\n",
              "    <tr>\n",
              "      <th>0</th>\n",
              "      <td>19350</td>\n",
              "      <td>Ecuador</td>\n",
              "      <td>ECU</td>\n",
              "      <td>1961</td>\n",
              "      <td>4674176</td>\n",
              "    </tr>\n",
              "    <tr>\n",
              "      <th>1</th>\n",
              "      <td>19351</td>\n",
              "      <td>Ecuador</td>\n",
              "      <td>ECU</td>\n",
              "      <td>1962</td>\n",
              "      <td>4809194</td>\n",
              "    </tr>\n",
              "    <tr>\n",
              "      <th>2</th>\n",
              "      <td>19352</td>\n",
              "      <td>Ecuador</td>\n",
              "      <td>ECU</td>\n",
              "      <td>1963</td>\n",
              "      <td>4948991</td>\n",
              "    </tr>\n",
              "    <tr>\n",
              "      <th>3</th>\n",
              "      <td>19353</td>\n",
              "      <td>Ecuador</td>\n",
              "      <td>ECU</td>\n",
              "      <td>1964</td>\n",
              "      <td>5093848</td>\n",
              "    </tr>\n",
              "    <tr>\n",
              "      <th>4</th>\n",
              "      <td>19354</td>\n",
              "      <td>Ecuador</td>\n",
              "      <td>ECU</td>\n",
              "      <td>1965</td>\n",
              "      <td>5243980</td>\n",
              "    </tr>\n",
              "    <tr>\n",
              "      <th>...</th>\n",
              "      <td>...</td>\n",
              "      <td>...</td>\n",
              "      <td>...</td>\n",
              "      <td>...</td>\n",
              "      <td>...</td>\n",
              "    </tr>\n",
              "    <tr>\n",
              "      <th>300</th>\n",
              "      <td>21096</td>\n",
              "      <td>Estonia</td>\n",
              "      <td>EST</td>\n",
              "      <td>2017</td>\n",
              "      <td>1319389</td>\n",
              "    </tr>\n",
              "    <tr>\n",
              "      <th>301</th>\n",
              "      <td>21097</td>\n",
              "      <td>Estonia</td>\n",
              "      <td>EST</td>\n",
              "      <td>2018</td>\n",
              "      <td>1322913</td>\n",
              "    </tr>\n",
              "    <tr>\n",
              "      <th>302</th>\n",
              "      <td>21098</td>\n",
              "      <td>Estonia</td>\n",
              "      <td>EST</td>\n",
              "      <td>2019</td>\n",
              "      <td>1325649</td>\n",
              "    </tr>\n",
              "    <tr>\n",
              "      <th>303</th>\n",
              "      <td>21099</td>\n",
              "      <td>Estonia</td>\n",
              "      <td>EST</td>\n",
              "      <td>2020</td>\n",
              "      <td>1326539</td>\n",
              "    </tr>\n",
              "    <tr>\n",
              "      <th>304</th>\n",
              "      <td>21100</td>\n",
              "      <td>Estonia</td>\n",
              "      <td>EST</td>\n",
              "      <td>2021</td>\n",
              "      <td>1325188</td>\n",
              "    </tr>\n",
              "  </tbody>\n",
              "</table>\n",
              "<p>305 rows × 5 columns</p>\n",
              "</div>\n",
              "      <button class=\"colab-df-convert\" onclick=\"convertToInteractive('df-8a334253-9da4-414e-9614-d131c41c2c1e')\"\n",
              "              title=\"Convert this dataframe to an interactive table.\"\n",
              "              style=\"display:none;\">\n",
              "        \n",
              "  <svg xmlns=\"http://www.w3.org/2000/svg\" height=\"24px\"viewBox=\"0 0 24 24\"\n",
              "       width=\"24px\">\n",
              "    <path d=\"M0 0h24v24H0V0z\" fill=\"none\"/>\n",
              "    <path d=\"M18.56 5.44l.94 2.06.94-2.06 2.06-.94-2.06-.94-.94-2.06-.94 2.06-2.06.94zm-11 1L8.5 8.5l.94-2.06 2.06-.94-2.06-.94L8.5 2.5l-.94 2.06-2.06.94zm10 10l.94 2.06.94-2.06 2.06-.94-2.06-.94-.94-2.06-.94 2.06-2.06.94z\"/><path d=\"M17.41 7.96l-1.37-1.37c-.4-.4-.92-.59-1.43-.59-.52 0-1.04.2-1.43.59L10.3 9.45l-7.72 7.72c-.78.78-.78 2.05 0 2.83L4 21.41c.39.39.9.59 1.41.59.51 0 1.02-.2 1.41-.59l7.78-7.78 2.81-2.81c.8-.78.8-2.07 0-2.86zM5.41 20L4 18.59l7.72-7.72 1.47 1.35L5.41 20z\"/>\n",
              "  </svg>\n",
              "      </button>\n",
              "      \n",
              "  <style>\n",
              "    .colab-df-container {\n",
              "      display:flex;\n",
              "      flex-wrap:wrap;\n",
              "      gap: 12px;\n",
              "    }\n",
              "\n",
              "    .colab-df-convert {\n",
              "      background-color: #E8F0FE;\n",
              "      border: none;\n",
              "      border-radius: 50%;\n",
              "      cursor: pointer;\n",
              "      display: none;\n",
              "      fill: #1967D2;\n",
              "      height: 32px;\n",
              "      padding: 0 0 0 0;\n",
              "      width: 32px;\n",
              "    }\n",
              "\n",
              "    .colab-df-convert:hover {\n",
              "      background-color: #E2EBFA;\n",
              "      box-shadow: 0px 1px 2px rgba(60, 64, 67, 0.3), 0px 1px 3px 1px rgba(60, 64, 67, 0.15);\n",
              "      fill: #174EA6;\n",
              "    }\n",
              "\n",
              "    [theme=dark] .colab-df-convert {\n",
              "      background-color: #3B4455;\n",
              "      fill: #D2E3FC;\n",
              "    }\n",
              "\n",
              "    [theme=dark] .colab-df-convert:hover {\n",
              "      background-color: #434B5C;\n",
              "      box-shadow: 0px 1px 3px 1px rgba(0, 0, 0, 0.15);\n",
              "      filter: drop-shadow(0px 1px 2px rgba(0, 0, 0, 0.3));\n",
              "      fill: #FFFFFF;\n",
              "    }\n",
              "  </style>\n",
              "\n",
              "      <script>\n",
              "        const buttonEl =\n",
              "          document.querySelector('#df-8a334253-9da4-414e-9614-d131c41c2c1e button.colab-df-convert');\n",
              "        buttonEl.style.display =\n",
              "          google.colab.kernel.accessAllowed ? 'block' : 'none';\n",
              "\n",
              "        async function convertToInteractive(key) {\n",
              "          const element = document.querySelector('#df-8a334253-9da4-414e-9614-d131c41c2c1e');\n",
              "          const dataTable =\n",
              "            await google.colab.kernel.invokeFunction('convertToInteractive',\n",
              "                                                     [key], {});\n",
              "          if (!dataTable) return;\n",
              "\n",
              "          const docLinkHtml = 'Like what you see? Visit the ' +\n",
              "            '<a target=\"_blank\" href=https://colab.research.google.com/notebooks/data_table.ipynb>data table notebook</a>'\n",
              "            + ' to learn more about interactive tables.';\n",
              "          element.innerHTML = '';\n",
              "          dataTable['output_type'] = 'display_data';\n",
              "          await google.colab.output.renderOutput(dataTable, element);\n",
              "          const docLink = document.createElement('div');\n",
              "          docLink.innerHTML = docLinkHtml;\n",
              "          element.appendChild(docLink);\n",
              "        }\n",
              "      </script>\n",
              "    </div>\n",
              "  </div>\n",
              "  "
            ]
          },
          "metadata": {},
          "execution_count": 116
        }
      ]
    },
    {
      "cell_type": "code",
      "source": [
        "for country in labels:\n",
        "    vals = df[df['Entity'] == country]\n",
        "    plt.plot(vals['Year'], vals['Population (historical estimates and future projections)'], label=country)\n",
        "\n",
        "\n",
        "plt.xlabel(\"Years\")\n",
        "plt.ylabel(\"Population, millions\")\n",
        "plt.legend()\n",
        "plt.show()"
      ],
      "metadata": {
        "colab": {
          "base_uri": "https://localhost:8080/",
          "height": 290
        },
        "id": "7UIv4XH883p5",
        "outputId": "0f2a027b-b0d7-4b0b-9cee-4f147658a897"
      },
      "execution_count": null,
      "outputs": [
        {
          "output_type": "display_data",
          "data": {
            "text/plain": [
              "<Figure size 432x288 with 1 Axes>"
            ],
            "image/png": "[encoded data removed]"
          },
          "metadata": {
            "needs_background": "light"
          }
        }
      ]
    },
    {
      "cell_type": "code",
      "execution_count": null,
      "metadata": {
        "id": "f0d7c719",
        "outputId": "a37ef739-8239-4246-ad1e-0d076cb02fa0",
        "colab": {
          "base_uri": "https://localhost:8080/"
        }
      },
      "outputs": [
        {
          "output_type": "stream",
          "name": "stdout",
          "text": [
            "KstestResult(statistic=1.0, pvalue=0.0)\n",
            "KstestResult(statistic=1.0, pvalue=0.0)\n",
            "KstestResult(statistic=1.0, pvalue=0.0)\n",
            "KstestResult(statistic=1.0, pvalue=0.0)\n",
            "KstestResult(statistic=1.0, pvalue=0.0)\n"
          ]
        }
      ],
      "source": [
        "# нормальний розподіл, we would expect the null hypothesis to be not rejected.\n",
        "from scipy import stats\n",
        "\n",
        "for country in labels:\n",
        "    vals = df[df['Entity'] == country]\n",
        "    print(stats.kstest(vals['Population (historical estimates and future projections)'],\n",
        "             \"norm\", alternative='less'))"
      ]
    },
    {
      "cell_type": "markdown",
      "metadata": {
        "id": "afa0275b"
      },
      "source": [
        "p-значення нижче за наше порогове значення 0,05, тому ми відкидаємо нульову гіпотезу на користь: дані не розподіляються відповідно до нормального розподілу."
      ]
    },
    {
      "cell_type": "code",
      "execution_count": null,
      "metadata": {
        "id": "5a387d00",
        "outputId": "d95544e5-bd3e-422c-bee3-a383594ba32b",
        "colab": {
          "base_uri": "https://localhost:8080/"
        }
      },
      "outputs": [
        {
          "output_type": "stream",
          "name": "stdout",
          "text": [
            "KstestResult(statistic=0.26129540172068344, pvalue=0.0003656983750299532)\n",
            "KstestResult(statistic=0.4366957122037278, pvalue=4.223496360423022e-11)\n",
            "KstestResult(statistic=0.3061313506096991, pvalue=1.4277209402572756e-05)\n",
            "KstestResult(statistic=0.4034065262859613, pvalue=1.7709217275677666e-09)\n",
            "KstestResult(statistic=0.7837769838474312, pvalue=2.8137844806190923e-40)\n"
          ]
        }
      ],
      "source": [
        "# рівномірний розподіл, we would expect the null hypothesis to be not rejected.\n",
        "from scipy import stats\n",
        "\n",
        "for country in labels:\n",
        "    vals = df[df['Entity'] == country]\n",
        "    print(stats.kstest(vals['Population (historical estimates and future projections)'],\n",
        "             stats.uniform(min(vals['Population (historical estimates and future projections)']), \n",
        "                           max(vals['Population (historical estimates and future projections)'])).cdf))"
      ]
    },
    {
      "cell_type": "markdown",
      "metadata": {
        "id": "42d14ba2"
      },
      "source": [
        "p-значення нижче за наше порогове значення 0,05, тому ми відкидаємо нульову гіпотезу на користь: дані не розподіляються відповідно до рівномірного розподілу."
      ]
    },
    {
      "cell_type": "code",
      "execution_count": null,
      "metadata": {
        "id": "d902c998",
        "outputId": "203f9cb8-eab5-4e48-fcb7-1a67a28aa731",
        "colab": {
          "base_uri": "https://localhost:8080/"
        }
      },
      "outputs": [
        {
          "output_type": "stream",
          "name": "stdout",
          "text": [
            "KstestResult(statistic=1.0, pvalue=0.0)\n",
            "KstestResult(statistic=1.0, pvalue=0.0)\n",
            "KstestResult(statistic=1.0, pvalue=0.0)\n",
            "KstestResult(statistic=1.0, pvalue=0.0)\n",
            "KstestResult(statistic=1.0, pvalue=0.0)\n"
          ]
        }
      ],
      "source": [
        "# експоненціальний розподіл, we would expect the null hypothesis to be not rejected.\n",
        "from scipy import stats\n",
        "\n",
        "for country in labels:\n",
        "    vals = df[df['Entity'] == country]\n",
        "    print(stats.kstest(vals['Population (historical estimates and future projections)'],\n",
        "                      stats.expon(1/vals['Population (historical estimates and future projections)'].mean()).cdf))"
      ]
    },
    {
      "cell_type": "markdown",
      "metadata": {
        "id": "81c69f7a"
      },
      "source": [
        "p-значення нижче за наше порогове значення 0,05, тому ми відкидаємо нульову гіпотезу на користь: дані не розподіляються відповідно до експоненціального розподілу."
      ]
    },
    {
      "cell_type": "code",
      "execution_count": null,
      "metadata": {
        "id": "f7ee2228",
        "outputId": "49ee7f7f-6c27-4ae4-a370-10c7fff3cdd7",
        "colab": {
          "base_uri": "https://localhost:8080/"
        }
      },
      "outputs": [
        {
          "output_type": "stream",
          "name": "stdout",
          "text": [
            "AndersonResult(statistic=0.8528274237444222, critical_values=array([0.544, 0.62 , 0.743, 0.867, 1.031]), significance_level=array([15. , 10. ,  5. ,  2.5,  1. ]))\n",
            "AndersonResult(statistic=1.670545346757983, critical_values=array([0.544, 0.62 , 0.743, 0.867, 1.031]), significance_level=array([15. , 10. ,  5. ,  2.5,  1. ]))\n",
            "AndersonResult(statistic=1.1000695807694143, critical_values=array([0.544, 0.62 , 0.743, 0.867, 1.031]), significance_level=array([15. , 10. ,  5. ,  2.5,  1. ]))\n",
            "AndersonResult(statistic=3.599273387797595, critical_values=array([0.544, 0.62 , 0.743, 0.867, 1.031]), significance_level=array([15. , 10. ,  5. ,  2.5,  1. ]))\n",
            "AndersonResult(statistic=1.0259096468724707, critical_values=array([0.544, 0.62 , 0.743, 0.867, 1.031]), significance_level=array([15. , 10. ,  5. ,  2.5,  1. ]))\n"
          ]
        }
      ],
      "source": [
        "# нормальний розподіл\n",
        "for country in labels:\n",
        "    vals = df[df['Entity'] == country]\n",
        "    print(stats.anderson(vals['Population (historical estimates and future projections)'],\n",
        "             dist='norm'))"
      ]
    },
    {
      "cell_type": "markdown",
      "metadata": {
        "id": "66d941d4"
      },
      "source": [
        "Якщо повернута statistic більша за critical_values, тоді нульову гіпотезу про те, що дані походять із вибраного розподілу, можна відхилити.\n",
        "\n"
      ]
    },
    {
      "cell_type": "code",
      "execution_count": null,
      "metadata": {
        "id": "9c5b0015",
        "outputId": "e708bc39-b1c2-409a-ca6a-b426a13aef1a",
        "colab": {
          "base_uri": "https://localhost:8080/"
        }
      },
      "outputs": [
        {
          "output_type": "stream",
          "name": "stdout",
          "text": [
            "AndersonResult(statistic=10.758522555420782, critical_values=array([0.913, 1.068, 1.328, 1.59 , 1.938]), significance_level=array([15. , 10. ,  5. ,  2.5,  1. ]))\n",
            "AndersonResult(statistic=17.140747188833117, critical_values=array([0.913, 1.068, 1.328, 1.59 , 1.938]), significance_level=array([15. , 10. ,  5. ,  2.5,  1. ]))\n",
            "AndersonResult(statistic=11.76857804274934, critical_values=array([0.913, 1.068, 1.328, 1.59 , 1.938]), significance_level=array([15. , 10. ,  5. ,  2.5,  1. ]))\n",
            "AndersonResult(statistic=5.787101136977782, critical_values=array([0.913, 1.068, 1.328, 1.59 , 1.938]), significance_level=array([15. , 10. ,  5. ,  2.5,  1. ]))\n",
            "AndersonResult(statistic=24.71168248162155, critical_values=array([0.913, 1.068, 1.328, 1.59 , 1.938]), significance_level=array([15. , 10. ,  5. ,  2.5,  1. ]))\n"
          ]
        }
      ],
      "source": [
        "# експоненціальний розподіл\n",
        "for country in labels:\n",
        "    vals = df[df['Entity'] == country]\n",
        "    print(stats.anderson(vals['Population (historical estimates and future projections)'],\n",
        "             dist='expon'))"
      ]
    },
    {
      "cell_type": "code",
      "execution_count": null,
      "metadata": {
        "id": "ee7ac07e",
        "outputId": "d8118e83-76b3-41e8-ead9-2aef7527c410",
        "colab": {
          "base_uri": "https://localhost:8080/"
        }
      },
      "outputs": [
        {
          "output_type": "stream",
          "name": "stdout",
          "text": [
            "0.009754086844623089\n",
            "0.0003721383400261402\n",
            "0.003731505014002323\n",
            "1.0630034239511588e-06\n",
            "0.021022913977503777\n"
          ]
        }
      ],
      "source": [
        "# нормальний розподіл\n",
        "for country in labels:\n",
        "    vals = df[df['Entity'] == country]\n",
        "    print(stats.shapiro(vals['Population (historical estimates and future projections)']).pvalue)"
      ]
    },
    {
      "cell_type": "markdown",
      "metadata": {
        "id": "9784a448"
      },
      "source": [
        "p-значення нижче за наше порогове значення 0,05, тому дані не розподіляються відповідно до нормального розподілу"
      ]
    },
    {
      "cell_type": "code",
      "execution_count": null,
      "metadata": {
        "id": "08cd39b4",
        "outputId": "b4e226b9-2202-45d2-9f58-d8165b395e2a",
        "colab": {
          "base_uri": "https://localhost:8080/"
        }
      },
      "outputs": [
        {
          "output_type": "stream",
          "name": "stdout",
          "text": [
            "0.0001103145102077193\n",
            "0.005268117884217649\n",
            "0.002056259289629064\n",
            "0.008934939585387405\n",
            "0.11513675260737505\n"
          ]
        }
      ],
      "source": [
        "# нормальний розподіл\n",
        "for country in labels:\n",
        "    vals = df[df['Entity'] == country]\n",
        "    p = stats.normaltest(vals['Population (historical estimates and future projections)']).pvalue\n",
        "    print(p)"
      ]
    }
  ]
}